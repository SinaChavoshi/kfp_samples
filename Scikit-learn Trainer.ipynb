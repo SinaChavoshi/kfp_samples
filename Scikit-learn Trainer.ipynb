{
 "cells": [
  {
   "cell_type": "markdown",
   "metadata": {},
   "source": [
    "# Scikit-learn Trainer\n",
    "This is a Scikit-learn trainer Kubeflow component. It trains a variety of Scikit-learn models using your data. \n",
    "\n",
    "## Intended Use\n",
    "You may use this component to train a scikit-learn classifier or regressor. Currently, the following estimators are supported:\n",
    "\n",
    "* AdaBoostClassifier\n",
    "* BaggingClassifier\n",
    "* DecisionTreeClassifier\n",
    "* ExtraTreesClassifier\n",
    "* GaussianNB\n",
    "* GaussianProcessClassifier\n",
    "* GradientBoostingClassifier\n",
    "* GradientBoostingRegressor\n",
    "* KDTree\n",
    "* KNeighborsClassifier\n",
    "* KNeighborsRegressor\n",
    "* Lasso\n",
    "* LinearRegression\n",
    "* LogisticRegression\n",
    "* MLPClassifier\n",
    "* RandomForestClassifier\n",
    "* Ridge\n",
    "* SGDRegressor\n",
    "* SVC\n",
    "* SVR\n",
    "\n",
    "## Argument Definitions\n",
    "* `estimator_name`: The name of the estimator as it appears in the list above.\n",
    "* `training_data_path`: Path to the training csv file. It can be the path to a local file, or a file in a GCS bucket. The code expects the target to be the first column, followed by the features.\n",
    "* `test_data_path`: [optional] Path to the test csv file, with a format similar to the training data file.\n",
    "* `output_dir`: Path to the output directory which could be a local directory, or a directory in GCS.\n",
    "* `with_header`: Indicates that the train and test datasets have headers. Otherwise it is assumed that the input files have no headers.\n",
    "* `hyperparameters`: A string containing all the hyperparameters and their values seprated by spaces."
   ]
  },
  {
   "cell_type": "markdown",
   "metadata": {},
   "source": [
    "## Enter Component Arguments"
   ]
  },
  {
   "cell_type": "code",
   "execution_count": 32,
   "metadata": {},
   "outputs": [],
   "source": [
    "EXPERIMENT_NAME = 'kfp-sklearn-component_1'\n",
    "estimator_name='GradientBoostingClassifier'\n",
    "training_data_path='gs://cloud-samples-data/ml-engine/iris/classification/train.csv'\n",
    "test_data_path='gs://cloud-samples-data/ml-engine/iris/classification/evaluate.csv'\n",
    "output_dir='gs://chavoshi-dev-mlpipeline'\n",
    "hyperparameters='n_estimators 100 max_depth 4'"
   ]
  },
  {
   "cell_type": "markdown",
   "metadata": {},
   "source": [
    "### Install KFP and scikit-learn "
   ]
  },
  {
   "cell_type": "code",
   "execution_count": 7,
   "metadata": {},
   "outputs": [],
   "source": [
    "%%capture\n",
    "KFP_PACKAGE = 'https://storage.googleapis.com/ml-pipeline/release/0.1.8/kfp.tar.gz'\n",
    "!pip3 install $KFP_PACKAGE --upgrade\n",
    "!pip3 install scikit-learn==0.20"
   ]
  },
  {
   "cell_type": "markdown",
   "metadata": {},
   "source": [
    "### Create Pipeline"
   ]
  },
  {
   "cell_type": "code",
   "execution_count": 33,
   "metadata": {},
   "outputs": [],
   "source": [
    "import kfp\n",
    "from kfp import compiler\n",
    "import kfp.dsl as dsl\n",
    "import kfp.notebook\n",
    "import kfp.gcp as gcp\n",
    "import kfp.components as comp"
   ]
  },
  {
   "cell_type": "code",
   "execution_count": 34,
   "metadata": {},
   "outputs": [
    {
     "data": {
      "text/html": [
       "Experiment link <a href=\"/pipeline/#/experiments/details/ac2faf18-7ebb-4e3f-9967-2a383141c775\" target=\"_blank\" >here</a>"
      ],
      "text/plain": [
       "<IPython.core.display.HTML object>"
      ]
     },
     "metadata": {},
     "output_type": "display_data"
    }
   ],
   "source": [
    "client = kfp.Client()\n",
    "exp = client.create_experiment(EXPERIMENT_NAME)"
   ]
  },
  {
   "cell_type": "code",
   "execution_count": 38,
   "metadata": {},
   "outputs": [
    {
     "data": {
      "text/plain": [
       "<function Scikit Learn Trainer(training_data_path, test_data_path, output_dir, estimator_name, hyperparameters)>"
      ]
     },
     "execution_count": 38,
     "metadata": {},
     "output_type": "execute_result"
    }
   ],
   "source": [
    "scikit_learn_train = comp.load_component_from_url(\n",
    "    'https://storage.googleapis.com/kf-pipeline-contrib-public/ai-hub-assets/sklearn/component.yaml')\n",
    "scikit_learn_train"
   ]
  },
  {
   "cell_type": "code",
   "execution_count": 36,
   "metadata": {},
   "outputs": [],
   "source": [
    "@dsl.pipeline(\n",
    "    name='Sklearn Trainer', description='Trains a Scikit-learn model')\n",
    "def scikit_learn_trainer(\n",
    "    training_data_path=dsl.PipelineParam(\n",
    "        'training-data-path',\n",
    "        value='gs://cloud-samples-data/ml-engine/iris/classification/train.csv'\n",
    "    ),\n",
    "    test_data_path=dsl.PipelineParam(\n",
    "        'test-data-path',\n",
    "        value='gs://cloud-samples-data/ml-engine/iris/classification/evaluate.csv'\n",
    "    ),\n",
    "    output_dir=dsl.PipelineParam('output-dir', value='/tmp'),\n",
    "    estimator_name=dsl.PipelineParam(\n",
    "        'estimator-name', value='GradientBoostingClassifier'),\n",
    "    hyperparameters=dsl.PipelineParam(\n",
    "        'hyperparameters', value='n_estimators 100 max_depth 4')):\n",
    "    \n",
    "    sklearn_op = scikit_learn_train(training_data_path, test_data_path, output_dir,\n",
    "                           estimator_name, hyperparameters).apply(gcp.use_gcp_secret('user-gcp-sa'))\n",
    "    \n",
    "compiler.Compiler().compile(scikit_learn_trainer, 'one_step_pipeline.tar.gz')"
   ]
  },
  {
   "cell_type": "markdown",
   "metadata": {},
   "source": [
    "### Run Pipeline"
   ]
  },
  {
   "cell_type": "code",
   "execution_count": 37,
   "metadata": {
    "scrolled": false
   },
   "outputs": [
    {
     "name": "stderr",
     "output_type": "stream",
     "text": [
      "/opt/conda/lib/python3.6/site-packages/kfp/_client.py:157: YAMLLoadWarning: calling yaml.load() without Loader=... is deprecated, as the default Loader is unsafe. Please read https://msg.pyyaml.org/load for full details.\n",
      "  return yaml.load(f)\n"
     ]
    },
    {
     "data": {
      "text/html": [
       "Run link <a href=\"/pipeline/#/runs/details/afa6ea37-8c7f-11e9-bdb6-42010a8000dd\" target=\"_blank\" >here</a>"
      ],
      "text/plain": [
       "<IPython.core.display.HTML object>"
      ]
     },
     "metadata": {},
     "output_type": "display_data"
    }
   ],
   "source": [
    "run = client.run_pipeline(\n",
    "    exp.id,\n",
    "    'run 1',\n",
    "    'one_step_pipeline.tar.gz',\n",
    "    params={\n",
    "        'training-data-path':training_data_path,\n",
    "        'test-data-path':test_data_path,\n",
    "        'output-dir':output_dir,\n",
    "        'estimator-name':estimator_name,\n",
    "        'hyperparameters':hyperparameters,\n",
    "    })"
   ]
  },
  {
   "cell_type": "markdown",
   "metadata": {},
   "source": [
    "### Locate exported pickled model\n",
    "The trained model was exported as a pickle to `output_dir` on GCS. Locate the full path of the file on the GCS UI browser or through the command line with `gsutil ls {output_dir}`. You may run this command in this notebook if the environment has the approriate permissions.\n",
    "\n",
    "Enter your file path in the cell below before executing."
   ]
  },
  {
   "cell_type": "markdown",
   "metadata": {},
   "source": [
    "### Load trained model after run and test"
   ]
  },
  {
   "cell_type": "code",
   "execution_count": 26,
   "metadata": {},
   "outputs": [
    {
     "name": "stderr",
     "output_type": "stream",
     "text": [
      "/opt/conda/lib/python3.6/site-packages/sklearn/base.py:251: UserWarning: Trying to unpickle estimator DecisionTreeRegressor from version 0.20.3 when using version 0.20.0. This might lead to breaking code or invalid results. Use at your own risk.\n",
      "  UserWarning)\n",
      "/opt/conda/lib/python3.6/site-packages/sklearn/base.py:251: UserWarning: Trying to unpickle estimator GradientBoostingClassifier from version 0.20.3 when using version 0.20.0. This might lead to breaking code or invalid results. Use at your own risk.\n",
      "  UserWarning)\n"
     ]
    },
    {
     "data": {
      "text/plain": [
       "array([1])"
      ]
     },
     "execution_count": 26,
     "metadata": {},
     "output_type": "execute_result"
    }
   ],
   "source": [
    "import tensorflow as tf\n",
    "import pickle\n",
    "\n",
    "# Replace with your retreived gcs path from above.\n",
    "PICKLE_FILE_PATH=output_dir+'/GradientBoostingClassifier_20190611173835.pkl' \n",
    "\n",
    "f = tf.io.read_file(PICKLE_FILE_PATH)\n",
    "\n",
    "with tf.Session() as sess:\n",
    "    pickle_string = sess.run(f)\n",
    "    \n",
    "model = pickle.loads(pickle_string)\n",
    "model.predict([[5.9, 3.0, 4.2, 1.5]])"
   ]
  },
  {
   "cell_type": "code",
   "execution_count": null,
   "metadata": {},
   "outputs": [],
   "source": [
    "comp.func_to_component_text()"
   ]
  },
  {
   "cell_type": "code",
   "execution_count": null,
   "metadata": {},
   "outputs": [],
   "source": []
  }
 ],
 "metadata": {
  "kernelspec": {
   "display_name": "Python 3",
   "language": "python",
   "name": "python3"
  },
  "language_info": {
   "codemirror_mode": {
    "name": "ipython",
    "version": 3
   },
   "file_extension": ".py",
   "mimetype": "text/x-python",
   "name": "python",
   "nbconvert_exporter": "python",
   "pygments_lexer": "ipython3",
   "version": "3.6.7"
  }
 },
 "nbformat": 4,
 "nbformat_minor": 2
}
